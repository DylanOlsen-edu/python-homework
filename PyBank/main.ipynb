{
 "cells": [
  {
   "cell_type": "code",
   "execution_count": 1,
   "id": "e01ee748-3fc0-4fa6-aded-6925929c96ad",
   "metadata": {},
   "outputs": [],
   "source": [
    "#Import the required tools/files.\n",
    "import csv"
   ]
  },
  {
   "cell_type": "code",
   "execution_count": 2,
   "id": "ff88f348-f90b-4bed-9a41-5fb6a327f90d",
   "metadata": {},
   "outputs": [],
   "source": [
    "import os"
   ]
  },
  {
   "cell_type": "code",
   "execution_count": 3,
   "id": "f79a7798-4a53-40f1-93a6-f6baad1fd303",
   "metadata": {},
   "outputs": [],
   "source": [
    "from pathlib import Path"
   ]
  },
  {
   "cell_type": "code",
   "execution_count": 4,
   "id": "348e6290-8fae-42b5-a47c-8debfbe5359c",
   "metadata": {},
   "outputs": [],
   "source": [
    "#Create a function with a value assigned to the csv file.\n",
    "csv_file_path = ('/Users/Dylan/downloads/Starter_Code/Pybank/resources/budget_data.csv')"
   ]
  },
  {
   "cell_type": "code",
   "execution_count": 5,
   "id": "b5e46dad-33a3-42fa-93ce-b6394b9cb440",
   "metadata": {},
   "outputs": [],
   "source": [
    "#Create List Variables\n",
    "total_months = []\n",
    "total_profit = []\n",
    "total_loss = []\n",
    "monthly_profit_change = []"
   ]
  },
  {
   "cell_type": "code",
   "execution_count": 6,
   "id": "c2817df0-3553-4300-8d99-35a5e3ed6005",
   "metadata": {},
   "outputs": [],
   "source": [
    "#Create Dictionary Variables\n",
    "profit_and_months = {}\n",
    "profit_and_change = {}"
   ]
  },
  {
   "cell_type": "code",
   "execution_count": 7,
   "id": "db5bdc7b-c1a4-4923-8fce-94adca3a3f76",
   "metadata": {},
   "outputs": [],
   "source": [
    "#Open csv file in read mode\n",
    "with open(csv_file_path,newline=\"\", encoding='utf-8') as budget:\n",
    "    csvreader = csv.reader(budget,delimiter=\",\")\n",
    "    header = next(csvreader)\n",
    "#Iterate through the data stored in the csv file   \n",
    "    for row in csvreader:\n",
    "        total_months.append(row[0])\n",
    "        total_profit.append(int(row[1]))"
   ]
  },
  {
   "cell_type": "code",
   "execution_count": 12,
   "id": "18259f6c-3287-4beb-94f3-6220752fb011",
   "metadata": {},
   "outputs": [],
   "source": [
    "#Iterate through profits to obtain monthly profit changes\n",
    "for i in range(len(total_profit)-1):\n",
    "    monthly_profit_change.append(total_profit[i+1]-total_profit[i])"
   ]
  },
  {
   "cell_type": "code",
   "execution_count": 9,
   "id": "40bb616c-bce8-4019-9964-895045f82928",
   "metadata": {},
   "outputs": [],
   "source": [
    "#Maximum and Minimum functions for monthly profit change\n",
    "max_increase_value = max(monthly_profit_change)\n",
    "max_decrease_value = min(monthly_profit_change)"
   ]
  },
  {
   "cell_type": "code",
   "execution_count": 18,
   "id": "39b945a8-c35d-4d76-81e6-dea3f7452d9c",
   "metadata": {},
   "outputs": [],
   "source": [
    "#Create function using to iterate proper month sequence\n",
    "max_increase_month = monthly_profit_change.index(max(monthly_profit_change)) + 1\n",
    "max_decrease_month = monthly_profit_change.index(min(monthly_profit_change)) + 1"
   ]
  },
  {
   "cell_type": "code",
   "execution_count": 11,
   "id": "8ae90640-2d6b-47be-8e4b-51e26c40111c",
   "metadata": {},
   "outputs": [
    {
     "name": "stdout",
     "output_type": "stream",
     "text": [
      "Financial Analysis\n",
      "-----------------------\n",
      "Total Months: 86\n",
      "Total: $38382578\n",
      "Average Change: -2315.12\n",
      "Greatest Increase in Profits: Feb-2012 ($1926159)\n",
      "Greatest Decrease in Profits: Sep-2013 ($-2196167)\n"
     ]
    }
   ],
   "source": [
    "#Print Statemnts\n",
    "print(\"Financial Analysis\")\n",
    "print(\"-----------------------\")\n",
    "print(f\"Total Months: {len(total_months)}\")\n",
    "print(f\"Total: ${sum(total_profit)}\")\n",
    "print(f\"Average Change: {round(sum(monthly_profit_change)/len(monthly_profit_change),2)}\")\n",
    "print(f\"Greatest Increase in Profits: {total_months[max_increase_month]} (${(str(max_increase_value))})\")\n",
    "print(f\"Greatest Decrease in Profits: {total_months[max_decrease_month]} (${(str(max_decrease_value))})\")"
   ]
  },
  {
   "cell_type": "code",
   "execution_count": 15,
   "id": "f698f827-94a0-4147-9c2b-a75034c8603a",
   "metadata": {},
   "outputs": [],
   "source": [
    "#Create a path for output file\n",
    "output_file = \"/Users/Dylan/desktop/fintech/python-homework/PyBank/results.txt\""
   ]
  },
  {
   "cell_type": "code",
   "execution_count": 17,
   "id": "2cdd0a5e-4a87-4c7f-8a67-f2bfd6df5276",
   "metadata": {},
   "outputs": [],
   "source": [
    "#Write text for the output file\n",
    "with open(output_file,\"w\") as file:\n",
    "    file.write(\"Financial Analysis\")\n",
    "    file.write(\"\\n\")\n",
    "    file.write(\"-----------------------\")\n",
    "    file.write(\"\\n\")\n",
    "    file.write(f\"Total Months: {len(total_months)}\")\n",
    "    file.write(\"\\n\")\n",
    "    file.write(f\"Total: ${sum(total_profit)}\")\n",
    "    file.write(\"\\n\")\n",
    "    file.write(f\"Average Change: {round(sum(monthly_profit_change)/len(monthly_profit_change),2)}\")\n",
    "    file.write(\"\\n\")\n",
    "    file.write(f\"Greatest Increase in Profits: {total_months[max_increase_month]} (${(str(max_increase_value))})\")\n",
    "    file.write(\"\\n\")\n",
    "    file.write(f\"Greatest Decrease in Profits: {total_months[max_decrease_month]} (${(str(max_decrease_value))})\")"
   ]
  },
  {
   "cell_type": "code",
   "execution_count": null,
   "id": "3fb7d0bf-5b38-44fd-86f2-3067d55de4a2",
   "metadata": {},
   "outputs": [],
   "source": []
  }
 ],
 "metadata": {
  "kernelspec": {
   "display_name": "Python 3 (ipykernel)",
   "language": "python",
   "name": "python3"
  },
  "language_info": {
   "codemirror_mode": {
    "name": "ipython",
    "version": 3
   },
   "file_extension": ".py",
   "mimetype": "text/x-python",
   "name": "python",
   "nbconvert_exporter": "python",
   "pygments_lexer": "ipython3",
   "version": "3.9.12"
  }
 },
 "nbformat": 4,
 "nbformat_minor": 5
}
